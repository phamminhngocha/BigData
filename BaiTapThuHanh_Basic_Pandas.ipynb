{
  "nbformat": 4,
  "nbformat_minor": 0,
  "metadata": {
    "colab": {
      "provenance": []
    },
    "kernelspec": {
      "name": "python3",
      "display_name": "Python 3"
    },
    "language_info": {
      "name": "python"
    }
  },
  "cells": [
    {
      "cell_type": "code",
      "execution_count": null,
      "metadata": {
        "id": "o46cB5mUJqUz"
      },
      "outputs": [],
      "source": [
        "# import module pandas\n",
        "\n"
      ]
    },
    {
      "cell_type": "code",
      "source": [
        "#Tạo biến arr kiểu từ điển gồm 3 key: \"hoten\",\"dvct\",\"luong\", mỗi key gồm 5 giá trị (key dvct chỉ chứa các giá trị: \"Kế toán\",\"Bảo vệ\",\"Tài chính\", key luong chỉ có các giá trị: 1200,1500,1800) và hiển thị từ điển đó sau khi tạo\n"
      ],
      "metadata": {
        "id": "UTTwyakfJ69j"
      },
      "execution_count": null,
      "outputs": []
    },
    {
      "cell_type": "code",
      "source": [
        "#hiển thị các giá trị của key\" dvct\"\n"
      ],
      "metadata": {
        "id": "uX5lVammKq5n"
      },
      "execution_count": null,
      "outputs": []
    },
    {
      "cell_type": "code",
      "source": [
        "#Tạo DataFrame df từ mảng arr\n"
      ],
      "metadata": {
        "id": "gJ7bQhO8KueX"
      },
      "execution_count": null,
      "outputs": []
    },
    {
      "cell_type": "code",
      "source": [
        "#Xem nội dung DataFrame df\n"
      ],
      "metadata": {
        "id": "d8QNw2RGLCga"
      },
      "execution_count": null,
      "outputs": []
    },
    {
      "cell_type": "code",
      "source": [
        "#Hiển thị 2 bản ghi đầu tiên có trong DataFrame df\n"
      ],
      "metadata": {
        "id": "5-uI_TCZLEHE"
      },
      "execution_count": null,
      "outputs": []
    },
    {
      "cell_type": "code",
      "source": [
        "#Hiển thị 3 bản ghi cuối cùng có trong DataFrame df"
      ],
      "metadata": {
        "id": "B435_n-5LKBp"
      },
      "execution_count": null,
      "outputs": []
    },
    {
      "cell_type": "code",
      "source": [
        "#Hiển thị từ bản ghi đầu đến bản ghi thứ 3 có trong DataFrame df\n"
      ],
      "metadata": {
        "id": "8UsQBCLHLL49"
      },
      "execution_count": null,
      "outputs": []
    },
    {
      "cell_type": "code",
      "source": [
        "#Hiển thị tất cả bản ghi có trong DataFrame df có chỉ mục lẻ\n"
      ],
      "metadata": {
        "id": "-yLE9epcLaza"
      },
      "execution_count": null,
      "outputs": []
    },
    {
      "cell_type": "code",
      "source": [
        "#Hiển thị tất cả bản ghi có trong DataFrame df có chỉ mục chia hết cho 3\n"
      ],
      "metadata": {
        "id": "JW63cwCRTTp3"
      },
      "execution_count": null,
      "outputs": []
    },
    {
      "cell_type": "code",
      "source": [
        "# Lấy từ bản ghi thứ 2 về cuối dữ liệu\n",
        "\n"
      ],
      "metadata": {
        "id": "A3LRyA0_Ldjh"
      },
      "execution_count": null,
      "outputs": []
    },
    {
      "cell_type": "code",
      "source": [
        "# Lấy giá trị cột hoten có kết quả dạng Series\n"
      ],
      "metadata": {
        "id": "NQMvZgfpL9Sh"
      },
      "execution_count": null,
      "outputs": []
    },
    {
      "cell_type": "code",
      "source": [
        "# Lấy giá trị cột hoten  có kết quả dạng DataFrame\n"
      ],
      "metadata": {
        "id": "qnUSh1yLMdy3"
      },
      "execution_count": null,
      "outputs": []
    },
    {
      "cell_type": "code",
      "source": [
        "#Lấy kích thước của DataFrame df\n"
      ],
      "metadata": {
        "id": "rmK0ecdjMnrJ"
      },
      "execution_count": null,
      "outputs": []
    },
    {
      "cell_type": "code",
      "source": [
        "#Lấy thông tin chi tiết của DataFrame df\n"
      ],
      "metadata": {
        "id": "FBtZhNLxNC8R"
      },
      "execution_count": null,
      "outputs": []
    },
    {
      "cell_type": "code",
      "source": [
        "#Lấy tên các cột có trong df\n"
      ],
      "metadata": {
        "id": "ea2c3DpHNJcT"
      },
      "execution_count": null,
      "outputs": []
    },
    {
      "cell_type": "code",
      "source": [
        "# Lấy thông tin thống kê trong df. Hãy cho biết ý nghĩa các thông tin có trong kết quả\n"
      ],
      "metadata": {
        "id": "U22FJaH_NPBn"
      },
      "execution_count": null,
      "outputs": []
    },
    {
      "cell_type": "code",
      "source": [
        "# Lấy danh sách lương trên 1500\n"
      ],
      "metadata": {
        "id": "Vgs9hU44NexG"
      },
      "execution_count": null,
      "outputs": []
    },
    {
      "cell_type": "code",
      "source": [
        "# Lấy danh sách lương trên 1500 gồm các cột hoten,luong\n"
      ],
      "metadata": {
        "id": "dHtVzpJoOJIJ"
      },
      "execution_count": null,
      "outputs": []
    },
    {
      "cell_type": "code",
      "source": [
        "# Lấy danh sách lương từ dòng có chỉ mục 1 đến 3, gồm các cột hoten,dvct\n"
      ],
      "metadata": {
        "id": "JdmhvH5jPBjt"
      },
      "execution_count": null,
      "outputs": []
    },
    {
      "cell_type": "code",
      "source": [
        "# Lấy danh sách lương đơn vị Kế toán, gồm tất cả các cột\n"
      ],
      "metadata": {
        "id": "dJOiWf22Pdre"
      },
      "execution_count": null,
      "outputs": []
    },
    {
      "cell_type": "code",
      "source": [
        "# Lấy danh sách lương đơn vị Bảo về, gồm các cột hoten,luong\n"
      ],
      "metadata": {
        "id": "es9xos7LQnZp"
      },
      "execution_count": null,
      "outputs": []
    },
    {
      "cell_type": "code",
      "source": [
        "# Xác định họ tên những người có lương cao nhất\n"
      ],
      "metadata": {
        "id": "InbSvPnWRFYZ"
      },
      "execution_count": null,
      "outputs": []
    },
    {
      "cell_type": "code",
      "source": [
        "#Hiển thị danh sách những người họ Nguyễn\n"
      ],
      "metadata": {
        "id": "2lYi9JxjRrTY"
      },
      "execution_count": 24,
      "outputs": []
    },
    {
      "cell_type": "code",
      "source": [
        "#Hiển thị danh sách những người tên \"Hoa\""
      ],
      "metadata": {
        "id": "2rJl70QaWlBS"
      },
      "execution_count": 25,
      "outputs": []
    },
    {
      "cell_type": "code",
      "source": [],
      "metadata": {
        "id": "QqU803kbW6PW"
      },
      "execution_count": null,
      "outputs": []
    }
  ]
}